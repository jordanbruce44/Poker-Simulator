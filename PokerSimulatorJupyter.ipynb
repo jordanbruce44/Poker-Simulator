{
 "cells": [
  {
   "cell_type": "markdown",
   "metadata": {},
   "source": [
    "Texas Hold'em Simulator"
   ]
  },
  {
   "cell_type": "code",
   "execution_count": 2,
   "metadata": {},
   "outputs": [],
   "source": [
    "import random\n",
    "import pandas as pd\n",
    "import copy\n",
    "import numpy as np"
   ]
  },
  {
   "cell_type": "code",
   "execution_count": 4,
   "metadata": {},
   "outputs": [],
   "source": [
    "def create_deck():\n",
    "    \"\"\"\n",
    "    Creates a deck of cards as a list with each card being a list that has a suit as a char in its first element and a value as an int its second element (11=J, 12=Q, 13=K, 14=A). It then shuffles the deck.\n",
    "\n",
    "    Parameters:\n",
    "    - None\n",
    "\n",
    "    Returns:\n",
    "    - A deck (list) containing all of the cards (as lists) randomly shuffled\n",
    "    \"\"\"\n",
    "    suits = ['S', 'H', 'C', 'D']  # Suits\n",
    "    values = [2, 3, 4, 5, 6, 7, 8, 9, 10, 11, 12, 13, 14]  # Values, with 14 representing Ace\n",
    "    deck = [[suit, value] for suit in suits for value in values]\n",
    "    random.shuffle(deck)\n",
    "    return deck"
   ]
  },
  {
   "cell_type": "code",
   "execution_count": 5,
   "metadata": {},
   "outputs": [
    {
     "data": {
      "text/plain": [
       "[['S', 6],\n",
       " ['D', 2],\n",
       " ['S', 3],\n",
       " ['S', 2],\n",
       " ['H', 3],\n",
       " ['H', 2],\n",
       " ['C', 7],\n",
       " ['H', 11],\n",
       " ['H', 7],\n",
       " ['D', 8],\n",
       " ['H', 13],\n",
       " ['D', 5],\n",
       " ['H', 6],\n",
       " ['S', 5],\n",
       " ['S', 8],\n",
       " ['H', 10],\n",
       " ['C', 13],\n",
       " ['C', 12],\n",
       " ['C', 6],\n",
       " ['D', 4],\n",
       " ['D', 14],\n",
       " ['S', 10],\n",
       " ['D', 3],\n",
       " ['C', 11],\n",
       " ['C', 10],\n",
       " ['D', 11],\n",
       " ['C', 3],\n",
       " ['S', 4],\n",
       " ['C', 14],\n",
       " ['S', 12],\n",
       " ['D', 6],\n",
       " ['C', 8],\n",
       " ['H', 8],\n",
       " ['H', 4],\n",
       " ['S', 9],\n",
       " ['D', 12],\n",
       " ['H', 9],\n",
       " ['C', 2],\n",
       " ['C', 4],\n",
       " ['S', 13],\n",
       " ['S', 7],\n",
       " ['H', 14],\n",
       " ['S', 11],\n",
       " ['S', 14],\n",
       " ['D', 13],\n",
       " ['C', 9],\n",
       " ['D', 9],\n",
       " ['H', 12],\n",
       " ['H', 5],\n",
       " ['D', 10],\n",
       " ['C', 5],\n",
       " ['D', 7]]"
      ]
     },
     "execution_count": 5,
     "metadata": {},
     "output_type": "execute_result"
    }
   ],
   "source": [
    "deck=create_deck()\n",
    "deck"
   ]
  },
  {
   "cell_type": "code",
   "execution_count": 6,
   "metadata": {},
   "outputs": [],
   "source": [
    "def draw_card(deck, n):\n",
    "    \"\"\"\n",
    "    Draws n cards from a deck and returns them while removing them from the deck.\n",
    "\n",
    "    Parameters:\n",
    "    - deck: deck of cards\n",
    "    - n: the number of cards to draw\n",
    "\n",
    "    Returns:\n",
    "    - drawn_cards: a list n cards being drawn from the deck\n",
    "    \"\"\"\n",
    "    drawn_cards=[]\n",
    "    for i in range(n):\n",
    "        if deck:\n",
    "            drawn_cards.append(deck.pop())\n",
    "        else:\n",
    "            print(\"nothing in deck\")\n",
    "            break\n",
    "    return drawn_cards"
   ]
  },
  {
   "cell_type": "code",
   "execution_count": 7,
   "metadata": {},
   "outputs": [
    {
     "ename": "SyntaxError",
     "evalue": "incomplete input (2585220357.py, line 5)",
     "output_type": "error",
     "traceback": [
      "\u001b[0;36m  Cell \u001b[0;32mIn[7], line 5\u001b[0;36m\u001b[0m\n\u001b[0;31m    \u001b[0m\n\u001b[0m    ^\u001b[0m\n\u001b[0;31mSyntaxError\u001b[0m\u001b[0;31m:\u001b[0m incomplete input\n"
     ]
    }
   ],
   "source": [
    "def check_flush(hand):\n",
    "    return all(hand[0][0] == card[0] for card in hand)\n",
    "\n",
    "def check_straight(hand):\n",
    "    "
   ]
  },
  {
   "cell_type": "code",
   "execution_count": 12,
   "metadata": {},
   "outputs": [
    {
     "data": {
      "text/plain": [
       "[7, 11, 13, 14, 14]"
      ]
     },
     "execution_count": 12,
     "metadata": {},
     "output_type": "execute_result"
    }
   ],
   "source": [
    "hand = draw_card(create_deck(), 5)\n",
    "sorted_hand = sorted(card[1] for card in hand)\n",
    "sorted_hand"
   ]
  },
  {
   "cell_type": "code",
   "execution_count": 22,
   "metadata": {},
   "outputs": [
    {
     "data": {
      "text/plain": [
       "44"
      ]
     },
     "execution_count": 22,
     "metadata": {},
     "output_type": "execute_result"
    }
   ],
   "source": [
    "len(new_deck)"
   ]
  },
  {
   "cell_type": "code",
   "execution_count": 24,
   "metadata": {},
   "outputs": [],
   "source": [
    "def check_flush(hand):\n",
    "  return all([False if hand[i][0] != hand[i+1][0] else True for i in range(len(hand)-1)])"
   ]
  },
  {
   "cell_type": "code",
   "execution_count": 9,
   "metadata": {},
   "outputs": [],
   "source": [
    "def check_flush(hand):\n",
    "    # Checks if a five-card hand is a flush\n",
    "    suits = [card[0] for card in hand]\n",
    "    return len(set(suits)) == 1"
   ]
  },
  {
   "cell_type": "code",
   "execution_count": 8,
   "metadata": {},
   "outputs": [
    {
     "ename": "SyntaxError",
     "evalue": "invalid syntax (2997552205.py, line 15)",
     "output_type": "error",
     "traceback": [
      "\u001b[0;36m  Cell \u001b[0;32mIn[8], line 15\u001b[0;36m\u001b[0m\n\u001b[0;31m    if\u001b[0m\n\u001b[0m       ^\u001b[0m\n\u001b[0;31mSyntaxError\u001b[0m\u001b[0;31m:\u001b[0m invalid syntax\n"
     ]
    }
   ],
   "source": [
    "def check_flush(hand):\n",
    "    return all(hand[0][0] == card[0] for card in hand)\n",
    "\n",
    "def check_straight(hand):\n",
    "    sorted_hand = sorted(card[1] for card in hand)\n",
    "    if sorted_hand == [2, 3, 4, 5, 14]: #In the case of a ace-low straight\n",
    "        return True\n",
    "    return all(sorted_hand[i] + 1 == sorted_hand[i + 1] for i in range(len(sorted_hand) - 1))\n",
    "\n",
    "def check_hand_strength(hand):\n",
    "    if check_flush(hand):\n",
    "        if check_straight(hand):\n",
    "            royal_flush=0\n",
    "            for card in hand:\n",
    "                if \n",
    "    card_counter = [0 for i in range(13)]\n",
    "    for card in hand:\n",
    "        card_counter[card[1]-1] += 1\n",
    "    max_combination = max(card_counter)\n",
    "    if max_combination == 2:\n",
    "        pair_counter = sum(1 for counter in card_counter if counter == 2) # I just condensed the two/one pair and full house/set instances\n",
    "        return \"Two Pair\" if pair_counter == 2 else \"One Pair\"\n",
    "    elif max_combination == 3:\n",
    "        return \"Full House\" if any(count == 2 for count in card_counter) else \"Set\" # any returns true if there is any true value within a list\n",
    "    elif max_combination == 4:\n",
    "        return \"Four of a Kind\""
   ]
  },
  {
   "cell_type": "code",
   "execution_count": 11,
   "metadata": {},
   "outputs": [
    {
     "name": "stdout",
     "output_type": "stream",
     "text": [
      "False\n"
     ]
    }
   ],
   "source": [
    "hand = [['S', 13], ['S', 11], ['S', 12], ['S', 10], ['S', 14], ['H',3], ['D', 5]]  # Example of a Straight Flush\n",
    "print(check_flush(hand))"
   ]
  },
  {
   "cell_type": "code",
   "execution_count": 27,
   "metadata": {},
   "outputs": [
    {
     "data": {
      "text/plain": [
       "False"
      ]
     },
     "execution_count": 27,
     "metadata": {},
     "output_type": "execute_result"
    }
   ],
   "source": [
    "check_flush([['S',5],['S',2],['S',3],['S',7],['S',1]])"
   ]
  },
  {
   "cell_type": "code",
   "execution_count": 30,
   "metadata": {},
   "outputs": [],
   "source": [
    "def check_values(hand):\n",
    "  card_counter = [0 for i in range(13)]\n",
    "  for card in hand:\n",
    "    card_counter[card[1]-1] += 1\n",
    "  max_combination = max(card_counter)\n",
    "  if max_combination == 2:\n",
    "    pair_counter = sum(1 for counter in card_counter if counter == 2) # I just condensed the two/one pair and full house/set instances\n",
    "    return \"Two Pair\" if pair_counter == 2 else \"One Pair\"\n",
    "  elif max_combination == 3:\n",
    "    return \"Full House\" if any(count == 2 for count in card_counter) else \"Set\" # any returns true if there is any true value within a list\n",
    "  elif max_combination == 4:\n",
    "    return \"Four of a Kind\"\n",
    "  straight_counter = 0\n",
    "  for count in card_counter+[card_counter[0]]: # anytime I touched the straight stuff, things went horribly\n",
    "    if count == 0:\n",
    "      straight_counter = 0\n",
    "    else:\n",
    "      straight_counter += 1\n",
    "    if straight_counter == 5:\n",
    "      return \"Straight\"\n",
    "  return \"Nothing\"\n",
    "\n",
    "def get_hand_result(hand):\n",
    "    value = check_values(hand)\n",
    "    return \"Straight Flush\" if check_flush(hand) and value == \"Straight\" else value # condensed conditionals\n"
   ]
  },
  {
   "cell_type": "code",
   "execution_count": 36,
   "metadata": {},
   "outputs": [
    {
     "data": {
      "text/plain": [
       "'Flush'"
      ]
     },
     "execution_count": 36,
     "metadata": {},
     "output_type": "execute_result"
    }
   ],
   "source": [
    "get_hand_result([['S',12],['S',10],['S',11],['S',3],['S',1]])"
   ]
  }
 ],
 "metadata": {
  "kernelspec": {
   "display_name": "base",
   "language": "python",
   "name": "python3"
  },
  "language_info": {
   "codemirror_mode": {
    "name": "ipython",
    "version": 3
   },
   "file_extension": ".py",
   "mimetype": "text/x-python",
   "name": "python",
   "nbconvert_exporter": "python",
   "pygments_lexer": "ipython3",
   "version": "3.11.5"
  },
  "orig_nbformat": 4
 },
 "nbformat": 4,
 "nbformat_minor": 2
}
